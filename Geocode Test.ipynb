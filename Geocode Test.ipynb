{
 "cells": [
  {
   "cell_type": "code",
   "execution_count": 11,
   "metadata": {},
   "outputs": [],
   "source": [
    "import geopy\n",
    "import geopandas"
   ]
  },
  {
   "cell_type": "code",
   "execution_count": 13,
   "metadata": {},
   "outputs": [],
   "source": [
    "from geopy.geocoders import nominatim\n",
    "geolocator = nominatim.Nominatim(user_agent=\"store_address\")"
   ]
  },
  {
   "cell_type": "code",
   "execution_count": 25,
   "metadata": {},
   "outputs": [
    {
     "name": "stdout",
     "output_type": "stream",
     "text": [
      "606, West Katella Avenue, Anaheim Resort District, Anaheim, Orange County, California, 92802, United States\n",
      "33.8031341010101 -117.91634334343435\n"
     ]
    }
   ],
   "source": [
    "location = geolocator.geocode ('606 W Katella Ave')\n",
    "print(location.address)\n",
    "print(location.latitude, location.longitude)"
   ]
  }
 ],
 "metadata": {
  "interpreter": {
   "hash": "e59079c234c9590ae0c96a32072098e5d79c7464eb19d19ffc64730807f5203f"
  },
  "kernelspec": {
   "display_name": "Python 3.9.12 ('geocode_test_env')",
   "language": "python",
   "name": "python3"
  },
  "language_info": {
   "codemirror_mode": {
    "name": "ipython",
    "version": 3
   },
   "file_extension": ".py",
   "mimetype": "text/x-python",
   "name": "python",
   "nbconvert_exporter": "python",
   "pygments_lexer": "ipython3",
   "version": "3.9.12"
  },
  "orig_nbformat": 4
 },
 "nbformat": 4,
 "nbformat_minor": 2
}
